{
 "cells": [
  {
   "cell_type": "markdown",
   "id": "6c6aea23",
   "metadata": {},
   "source": [
    "# Neuron From Scratch"
   ]
  },
  {
   "cell_type": "code",
   "execution_count": 166,
   "id": "d7724565",
   "metadata": {},
   "outputs": [],
   "source": [
    "import numpy as np"
   ]
  },
  {
   "cell_type": "code",
   "execution_count": 167,
   "id": "87d10a4d",
   "metadata": {},
   "outputs": [],
   "source": [
    "np.random.seed(100)"
   ]
  },
  {
   "cell_type": "code",
   "execution_count": 168,
   "id": "dcefda5a",
   "metadata": {},
   "outputs": [],
   "source": [
    "def relu(z):\n",
    "    return np.maximum(0, z)\n",
    "\n",
    "def relu_derivative(z):\n",
    "    return np.where(z > 0, 1, 0)\n",
    "\n",
    "def sigmoid(z):\n",
    "    return 1 / (1 + np.exp(-z))\n",
    "\n",
    "def sigmoid_derivative(z):\n",
    "    return sigmoid(z) * (1 - sigmoid(z))\n",
    "\n",
    "def softmax(z):\n",
    "    return np.exp(z) / np.sum(exp_z)\n",
    "\n",
    "def binary_cross_entropy(y_true, y_pred):\n",
    "    epsilon = 1e-10\n",
    "    y_pred = np.clip(y_pred, epsilon, 1 - epsilon)\n",
    "    return -np.mean(y_true * np.log(y_pred) + (1 - y_true) * np.log(1 - y_pred))"
   ]
  },
  {
   "cell_type": "code",
   "execution_count": 169,
   "id": "7568cd56",
   "metadata": {},
   "outputs": [
    {
     "data": {
      "text/plain": [
       "np.float64(1.000000082790371e-10)"
      ]
     },
     "execution_count": 169,
     "metadata": {},
     "output_type": "execute_result"
    }
   ],
   "source": [
    "binary_cross_entropy(1,1)"
   ]
  },
  {
   "cell_type": "code",
   "execution_count": 170,
   "id": "7d32039b",
   "metadata": {},
   "outputs": [],
   "source": [
    "class Neuron:\n",
    "    def __init__(self, x, y):\n",
    "        self.x = np.expand_dims(x, axis=1)\n",
    "        self.y = np.expand_dims(y, axis=1)\n",
    "        m,n = self.x.shape\n",
    "        self.w = np.array(np.random.randn(n))\n",
    "        self.b = np.random.randn()\n",
    "\n",
    "    def forward(self, activation='relu'):\n",
    "        z = self.x * self.w + self.b\n",
    "        a = None\n",
    "        _activation = {\n",
    "            'relu': relu,\n",
    "            'sigmoid': sigmoid,\n",
    "            'softmax': softmax\n",
    "        }\n",
    "        \n",
    "        func = _activation.get(activation.lower())\n",
    "        \n",
    "        if not func:\n",
    "            raise ValueError(f\"Unsupported activation function: {activation}\")\n",
    "        \n",
    "        return func(z)\n",
    "    \n",
    "    def backward(self, epochs, learning_rate = 0.001, activation='sigmoid'):\n",
    "        for e in range(epochs):\n",
    "            y_pred = self.forward(activation)\n",
    "            \n",
    "            m = self.x.shape[0]\n",
    "            dw = (1/m) * np.dot(self.x.T, (y_pred - self.y))\n",
    "            db = (1/m) * np.sum(y_pred - self.y)\n",
    "            \n",
    "            self.w = self.w - learning_rate * dw\n",
    "            self.b = self.b - learning_rate * db\n",
    "            \n",
    "            loss = np.mean(binary_cross_entropy(self.y, y_pred))\n",
    "            print(f\"Epoch {e+1}/{epochs}, Loss: {loss:.4f}\")"
   ]
  },
  {
   "cell_type": "code",
   "execution_count": 171,
   "id": "c5ce6860",
   "metadata": {},
   "outputs": [
    {
     "data": {
      "text/plain": [
       "array([[0.],\n",
       "       [0.]])"
      ]
     },
     "execution_count": 171,
     "metadata": {},
     "output_type": "execute_result"
    }
   ],
   "source": [
    "x = np.array((0.4, 20))\n",
    "y = np.array((1.1, 2.2))\n",
    "neuron = Neuron(x, y)\n",
    "output = neuron.forward(activation='relu')\n",
    "output"
   ]
  },
  {
   "cell_type": "code",
   "execution_count": 172,
   "id": "aefcc192",
   "metadata": {},
   "outputs": [
    {
     "name": "stdout",
     "output_type": "stream",
     "text": [
      "Epoch 1/20, Loss: 25.7901\n",
      "Epoch 2/20, Loss: 25.7553\n",
      "Epoch 3/20, Loss: 25.7219\n",
      "Epoch 4/20, Loss: 23.8244\n",
      "Epoch 5/20, Loss: 18.9113\n",
      "Epoch 6/20, Loss: 14.0008\n",
      "Epoch 7/20, Loss: 9.0931\n",
      "Epoch 8/20, Loss: 4.2020\n",
      "Epoch 9/20, Loss: -0.0703\n",
      "Epoch 10/20, Loss: -2.0935\n",
      "Epoch 11/20, Loss: -3.5979\n",
      "Epoch 12/20, Loss: -5.0696\n",
      "Epoch 13/20, Loss: -6.5378\n",
      "Epoch 14/20, Loss: -8.0051\n",
      "Epoch 15/20, Loss: -9.4716\n",
      "Epoch 16/20, Loss: -10.9375\n",
      "Epoch 17/20, Loss: -12.4027\n",
      "Epoch 18/20, Loss: -13.7061\n",
      "Epoch 19/20, Loss: -13.7164\n",
      "Epoch 20/20, Loss: -13.7264\n"
     ]
    }
   ],
   "source": [
    "neuron.backward(epochs=20, learning_rate=0.01)"
   ]
  }
 ],
 "metadata": {
  "kernelspec": {
   "display_name": "venv",
   "language": "python",
   "name": "python3"
  },
  "language_info": {
   "codemirror_mode": {
    "name": "ipython",
    "version": 3
   },
   "file_extension": ".py",
   "mimetype": "text/x-python",
   "name": "python",
   "nbconvert_exporter": "python",
   "pygments_lexer": "ipython3",
   "version": "3.13.5"
  }
 },
 "nbformat": 4,
 "nbformat_minor": 5
}
