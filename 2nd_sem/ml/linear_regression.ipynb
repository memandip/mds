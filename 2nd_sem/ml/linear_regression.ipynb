{
 "cells": [
  {
   "cell_type": "markdown",
   "id": "66ee5205",
   "metadata": {},
   "source": [
    "# Linear Regression"
   ]
  },
  {
   "cell_type": "code",
   "execution_count": 360,
   "id": "a004205e",
   "metadata": {},
   "outputs": [],
   "source": [
    "import numpy as np\n",
    "np.random.seed(10)"
   ]
  },
  {
   "cell_type": "code",
   "execution_count": 361,
   "id": "aeb9e8b4",
   "metadata": {},
   "outputs": [
    {
     "data": {
      "text/plain": [
       "numpy.ndarray"
      ]
     },
     "execution_count": 361,
     "metadata": {},
     "output_type": "execute_result"
    }
   ],
   "source": [
    "n = 100_000\n",
    "x = np.random.rand(n)\n",
    "y = np.random.rand(n)\n",
    "type(x)"
   ]
  },
  {
   "cell_type": "code",
   "execution_count": 362,
   "id": "c1d03c1f",
   "metadata": {},
   "outputs": [
    {
     "data": {
      "text/plain": [
       "((100000,), (100000,))"
      ]
     },
     "execution_count": 362,
     "metadata": {},
     "output_type": "execute_result"
    }
   ],
   "source": [
    "x.shape, y.shape"
   ]
  },
  {
   "cell_type": "code",
   "execution_count": 363,
   "id": "fa1feacf",
   "metadata": {},
   "outputs": [
    {
     "name": "stdout",
     "output_type": "stream",
     "text": [
      "Time taken: 0.001675 seconds\n"
     ]
    }
   ],
   "source": [
    "import time\n",
    "\n",
    "start_time = time.time()\n",
    "\n",
    "# for i in range(len(x)):\n",
    "#     print(f\"Sum_{i}: {x[i]+y[i]}\")\n",
    "z = np.add(x,y)    \n",
    "end_time = time.time()\n",
    "\n",
    "print(f\"Time taken: {(end_time - start_time):2f} seconds\")"
   ]
  },
  {
   "cell_type": "code",
   "execution_count": 364,
   "id": "74ae9bb3",
   "metadata": {},
   "outputs": [
    {
     "data": {
      "text/plain": [
       "((100,),\n",
       " array([233.76045727, 365.19741999, 285.15519719, 269.46574419,\n",
       "        309.53530398, 317.90239148, 207.9275982 , 313.29280503,\n",
       "        391.41383323, 357.70450702, 275.52312346, 225.79992127,\n",
       "        291.71222141, 275.94260055, 385.38436136, 391.99981046,\n",
       "        357.74197116, 323.42861148, 289.41885474, 297.83843972,\n",
       "        375.01407883, 377.08832696, 349.68745288, 389.57409744,\n",
       "        289.13319066, 395.02394924, 209.54646546, 239.62193017,\n",
       "        395.71598933, 375.57764601, 353.63171665, 231.41680365,\n",
       "        367.01426443, 319.22780907, 255.27738828, 315.52544334,\n",
       "        331.96914625, 399.79512718, 367.40689718, 295.38615288,\n",
       "        213.96670498, 301.89073596, 247.19192066, 393.29071964,\n",
       "        395.78167681, 289.67584961, 209.7170554 , 251.18929922,\n",
       "        373.70991289, 279.41111162, 325.66563736, 243.11291186,\n",
       "        397.06359674, 397.49682434, 245.45407564, 285.90435614,\n",
       "        229.55022081, 359.20491674, 399.60053291, 343.60022404,\n",
       "        331.81812949, 211.37370355, 261.76054642, 319.20692748,\n",
       "        395.74756674, 375.4097184 , 287.98384727, 325.9947195 ,\n",
       "        333.48371036, 367.53479688, 391.53430258, 359.97792875,\n",
       "        319.36550933, 397.12530139, 377.92883856, 393.35930704,\n",
       "        319.82133378, 313.35421452, 351.77652242, 223.87810481,\n",
       "        369.27834978, 349.48263677, 399.9856884 , 363.95021735,\n",
       "        293.43430829, 361.26140346, 217.02231915, 303.84324639,\n",
       "        279.31831852, 365.18101005, 279.80591929, 393.03039285,\n",
       "        403.06222279, 317.36773259, 393.49804561, 269.14339215,\n",
       "        295.50802082, 313.57267655, 287.54929608, 305.83936656]))"
      ]
     },
     "execution_count": 364,
     "metadata": {},
     "output_type": "execute_result"
    }
   ],
   "source": [
    "w = 2\n",
    "b = 5\n",
    "# y = 2x + 5\n",
    "\n",
    "x = np.random.randint(100, 200, 100)\n",
    "random_noise = np.random.rand(100)\n",
    "y = 2 * x + 5 + random_noise\n",
    "\n",
    "y.shape, y"
   ]
  },
  {
   "cell_type": "code",
   "execution_count": 365,
   "id": "e1712aad",
   "metadata": {},
   "outputs": [
    {
     "data": {
      "text/plain": [
       "((100,), (100,))"
      ]
     },
     "execution_count": 365,
     "metadata": {},
     "output_type": "execute_result"
    }
   ],
   "source": [
    "x.shape, y.shape"
   ]
  },
  {
   "cell_type": "code",
   "execution_count": 366,
   "id": "c242352f",
   "metadata": {},
   "outputs": [
    {
     "name": "stdout",
     "output_type": "stream",
     "text": [
      "0.21232747260681706 0.9901810418700664\n"
     ]
    }
   ],
   "source": [
    "w1 = np.random.rand()\n",
    "w0 = np.random.rand()\n",
    "\n",
    "print(w1, w0)"
   ]
  },
  {
   "cell_type": "code",
   "execution_count": 367,
   "id": "2d00a699",
   "metadata": {},
   "outputs": [
    {
     "data": {
      "text/plain": [
       "array([25.19551292, 39.20912611, 30.71602721, 29.01740743, 33.26395688,\n",
       "       34.11326677, 22.43525578, 33.68861182, 41.96938325, 38.35981622,\n",
       "       29.65438984, 24.34620303, 31.35300962, 29.65438984, 41.33240084,\n",
       "       41.96938325, 38.35981622, 34.75024919, 31.14068215, 31.98999204,\n",
       "       40.27076347, 40.48309095, 37.51050633, 41.75705578, 31.14068215,\n",
       "       42.3940382 , 22.64758325, 25.83249534, 42.3940382 , 40.27076347,\n",
       "       37.93516128, 24.98318545, 39.42145358, 34.32559424, 27.53111512,\n",
       "       33.9009393 , 35.59955908, 42.81869315, 39.42145358, 31.77766457,\n",
       "       23.07223819, 32.41464699, 26.68180523, 42.18171073, 42.3940382 ,\n",
       "       31.14068215, 22.64758325, 27.10646017, 40.058436  , 30.07904479,\n",
       "       34.96257666, 26.25715028, 42.60636567, 42.60636567, 26.46947775,\n",
       "       30.71602721, 24.77085797, 38.57214369, 42.81869315, 36.87352391,\n",
       "       35.59955908, 22.85991072, 28.16809754, 34.32559424, 42.3940382 ,\n",
       "       40.27076347, 30.92835468, 34.96257666, 35.81188655, 39.42145358,\n",
       "       41.96938325, 38.57214369, 34.32559424, 42.60636567, 40.48309095,\n",
       "       42.18171073, 34.32559424, 33.68861182, 37.7228338 , 24.13387556,\n",
       "       39.63378106, 37.51050633, 42.81869315, 38.99679864, 31.5653371 ,\n",
       "       38.78447117, 23.49689314, 32.62697446, 30.07904479, 39.20912611,\n",
       "       30.07904479, 42.18171073, 43.24334809, 34.11326677, 42.18171073,\n",
       "       29.01740743, 31.77766457, 33.68861182, 30.92835468, 32.83930193])"
      ]
     },
     "execution_count": 367,
     "metadata": {},
     "output_type": "execute_result"
    }
   ],
   "source": [
    "y_predicted = w1 * x + w0\n",
    "y_predicted"
   ]
  },
  {
   "cell_type": "code",
   "execution_count": 368,
   "id": "3295dc46",
   "metadata": {},
   "outputs": [
    {
     "name": "stdout",
     "output_type": "stream",
     "text": [
      "Average error: -287.41938894474185\n"
     ]
    }
   ],
   "source": [
    "error = y_predicted - y\n",
    "error.shape, error\n",
    "print(\"Average error:\", np.mean(error))"
   ]
  },
  {
   "cell_type": "code",
   "execution_count": 369,
   "id": "4c3330d0",
   "metadata": {},
   "outputs": [
    {
     "name": "stdout",
     "output_type": "stream",
     "text": [
      "4696.808666180329 29.732119936344255\n"
     ]
    }
   ],
   "source": [
    "# Value of alpha\n",
    "learning_rate = 0.001\n",
    "\n",
    "w1 = w1 - learning_rate * np.dot(error, x)\n",
    "w0 = w0 - learning_rate * np.sum(error)\n",
    "\n",
    "print(w1, w0)"
   ]
  },
  {
   "cell_type": "code",
   "execution_count": 370,
   "id": "e31a1f85",
   "metadata": {},
   "outputs": [
    {
     "data": {
      "text/plain": [
       "(np.float64(-4696596.338707723), np.float64(-28741.938894474188))"
      ]
     },
     "execution_count": 370,
     "metadata": {},
     "output_type": "execute_result"
    }
   ],
   "source": [
    "np.dot(error, x), np.sum(error)"
   ]
  },
  {
   "cell_type": "code",
   "execution_count": 371,
   "id": "b57c5ad8",
   "metadata": {},
   "outputs": [
    {
     "name": "stdout",
     "output_type": "stream",
     "text": [
      "Epoch 1/10, Average Error: 177.653723439133\n",
      "Epoch 2/10, Average Error: 4769.938642178029\n",
      "Epoch 3/10, Average Error: 128173.39580365784\n",
      "Epoch 4/10, Average Error: 3444259.728418256\n",
      "Epoch 5/10, Average Error: 92553826.17573132\n",
      "Epoch 6/10, Average Error: 2487097886.84807\n",
      "Epoch 7/10, Average Error: 66833065296.4377\n",
      "Epoch 8/10, Average Error: 1795931973885.089\n",
      "Epoch 9/10, Average Error: 48260118558433.82\n",
      "Epoch 10/10, Average Error: 1296841460111614.5\n",
      "Final w1: -220217753300784.78, Final w0: -1346966926937.3887\n"
     ]
    }
   ],
   "source": [
    "w1 = np.random.rand()\n",
    "w0 = np.random.rand()\n",
    "\n",
    "epochs = 10\n",
    "\n",
    "for t in range(epochs):\n",
    "    y_predicted = w1 * x + w0\n",
    "    error = y - y_predicted\n",
    "    average_error = np.mean(error)\n",
    "    print(f\"Epoch {t+1}/{epochs}, Average Error: {average_error}\")\n",
    "    w1 = w1 - learning_rate * np.dot(error, x) / 100\n",
    "    w0 = w0 - learning_rate * np.mean(error)\n",
    "\n",
    "print(f\"Final w1: {w1}, Final w0: {w0}\")"
   ]
  }
 ],
 "metadata": {
  "kernelspec": {
   "display_name": "venv",
   "language": "python",
   "name": "python3"
  },
  "language_info": {
   "codemirror_mode": {
    "name": "ipython",
    "version": 3
   },
   "file_extension": ".py",
   "mimetype": "text/x-python",
   "name": "python",
   "nbconvert_exporter": "python",
   "pygments_lexer": "ipython3",
   "version": "3.13.5"
  }
 },
 "nbformat": 4,
 "nbformat_minor": 5
}
