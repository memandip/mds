{
 "cells": [
  {
   "cell_type": "markdown",
   "id": "7bec1975",
   "metadata": {},
   "source": [
    "# Neural Network using PyTorch"
   ]
  },
  {
   "cell_type": "code",
   "execution_count": 1,
   "id": "f685b121",
   "metadata": {},
   "outputs": [],
   "source": [
    "import torch\n",
    "import torch.nn as nn\n",
    "import torch.optim as optim\n",
    "import torchvision\n",
    "from torch.utils.data import DataLoader"
   ]
  },
  {
   "cell_type": "code",
   "execution_count": 17,
   "id": "f7f9a3b0",
   "metadata": {},
   "outputs": [],
   "source": [
    "# Define the Neural Network Architecture\n",
    "class SimpleNN(nn.Module):\n",
    "    \"\"\"\n",
    "    A simple feedforward neural network for image classification.\n",
    "    \"\"\"\n",
    "    def __init__(self, input_size, hidden_size1, hidden_size2, num_classes):\n",
    "        super(SimpleNN, self).__init__()\n",
    "        self.flatten = nn.Flatten()\n",
    "        self.network = nn.Sequential(\n",
    "            nn.Linear(input_size, hidden_size1),\n",
    "            nn.ReLU(),\n",
    "            nn.Linear(hidden_size1, hidden_size2),\n",
    "            nn.ReLU(),\n",
    "            nn.Linear(hidden_size2, num_classes)\n",
    "        )\n",
    "    \n",
    "    def forward(self, x):\n",
    "        x = self.flatten(x)\n",
    "        logits = self.network(x)\n",
    "        return logits"
   ]
  },
  {
   "cell_type": "code",
   "execution_count": 18,
   "id": "205dbb61",
   "metadata": {},
   "outputs": [
    {
     "name": "stdout",
     "output_type": "stream",
     "text": [
      "Using device: cpu\n"
     ]
    }
   ],
   "source": [
    "# Setup the hyperparameters and devices\n",
    "INPUT_SIZE = 784\n",
    "HIDDEN_SIZE1 = 128\n",
    "HIDDEN_SIZE2 = 64\n",
    "NUM_CLASSES = 10\n",
    "LEARNING_RATE = 0.001\n",
    "BATCH_SIZE = 64\n",
    "NUM_EPOCHS = 5\n",
    "\n",
    "device = torch.device(\"cuda\" if torch.cuda.is_available() else \"cpu\")\n",
    "print(f\"Using device: {device}\")"
   ]
  },
  {
   "cell_type": "code",
   "execution_count": 4,
   "id": "a05c16a8",
   "metadata": {},
   "outputs": [
    {
     "name": "stderr",
     "output_type": "stream",
     "text": [
      "100%|██████████| 9.91M/9.91M [00:03<00:00, 3.24MB/s]\n",
      "100%|██████████| 28.9k/28.9k [00:00<00:00, 112kB/s]\n",
      "100%|██████████| 1.65M/1.65M [00:05<00:00, 280kB/s]\n",
      "100%|██████████| 4.54k/4.54k [00:00<00:00, 5.34MB/s]\n"
     ]
    }
   ],
   "source": [
    "# Load and prepare the dataset\n",
    "\n",
    "# Define a transform to normalize the data\n",
    "transform = torchvision.transforms.Compose([\n",
    "    torchvision.transforms.ToTensor(),\n",
    "    torchvision.transforms.Normalize((0.5,), (0.5,))\n",
    "])\n",
    "\n",
    "# Download and load the dataset\n",
    "train_dataset = torchvision.datasets.MNIST(root='./data', train=True, download=True, transform=transform)\n",
    "test_dataset = torchvision.datasets.MNIST(root='./data', train=False, download=True, transform=transform)"
   ]
  },
  {
   "cell_type": "code",
   "execution_count": 13,
   "id": "48dd1729",
   "metadata": {},
   "outputs": [],
   "source": [
    "train_loader = DataLoader(dataset=train_dataset, batch_size=BATCH_SIZE, shuffle=True)\n",
    "test_loader = DataLoader(dataset=test_dataset, batch_size=BATCH_SIZE, shuffle=False)"
   ]
  },
  {
   "cell_type": "code",
   "execution_count": 20,
   "id": "485937d2",
   "metadata": {},
   "outputs": [],
   "source": [
    "model = SimpleNN(INPUT_SIZE, HIDDEN_SIZE1, HIDDEN_SIZE2, NUM_CLASSES).to(device)\n",
    "criterion = nn.CrossEntropyLoss()\n",
    "optimizer = optim.Adam(model.parameters(), lr=LEARNING_RATE)"
   ]
  },
  {
   "cell_type": "code",
   "execution_count": 24,
   "id": "caf55d89",
   "metadata": {},
   "outputs": [
    {
     "name": "stdout",
     "output_type": "stream",
     "text": [
      "\n",
      "Starting training...\n",
      "Epoch [1/5], Step [100/14], Loss: 0.3619\n",
      "Epoch [1/5], Step [200/14], Loss: 0.3149\n",
      "Epoch [1/5], Step [300/14], Loss: 0.2866\n",
      "Epoch [1/5], Step [400/14], Loss: 0.3520\n",
      "Epoch [1/5], Step [500/14], Loss: 0.1732\n",
      "Epoch [1/5], Step [600/14], Loss: 0.2120\n",
      "Epoch [1/5], Step [700/14], Loss: 0.3522\n",
      "Epoch [1/5], Step [800/14], Loss: 0.1645\n",
      "Epoch [1/5], Step [900/14], Loss: 0.2065\n",
      "Epoch [2/5], Step [100/14], Loss: 0.2588\n",
      "Epoch [2/5], Step [200/14], Loss: 0.3542\n",
      "Epoch [2/5], Step [300/14], Loss: 0.1131\n",
      "Epoch [2/5], Step [400/14], Loss: 0.0860\n",
      "Epoch [2/5], Step [500/14], Loss: 0.0829\n",
      "Epoch [2/5], Step [600/14], Loss: 0.1375\n",
      "Epoch [2/5], Step [700/14], Loss: 0.1450\n",
      "Epoch [2/5], Step [800/14], Loss: 0.0850\n",
      "Epoch [2/5], Step [900/14], Loss: 0.0692\n",
      "Epoch [3/5], Step [100/14], Loss: 0.1246\n",
      "Epoch [3/5], Step [200/14], Loss: 0.0661\n",
      "Epoch [3/5], Step [300/14], Loss: 0.0758\n",
      "Epoch [3/5], Step [400/14], Loss: 0.0903\n",
      "Epoch [3/5], Step [500/14], Loss: 0.0464\n",
      "Epoch [3/5], Step [600/14], Loss: 0.1153\n",
      "Epoch [3/5], Step [700/14], Loss: 0.1445\n",
      "Epoch [3/5], Step [800/14], Loss: 0.4332\n",
      "Epoch [3/5], Step [900/14], Loss: 0.1265\n",
      "Epoch [4/5], Step [100/14], Loss: 0.0748\n",
      "Epoch [4/5], Step [200/14], Loss: 0.0442\n",
      "Epoch [4/5], Step [300/14], Loss: 0.1887\n",
      "Epoch [4/5], Step [400/14], Loss: 0.0956\n",
      "Epoch [4/5], Step [500/14], Loss: 0.1658\n",
      "Epoch [4/5], Step [600/14], Loss: 0.0536\n",
      "Epoch [4/5], Step [700/14], Loss: 0.1541\n",
      "Epoch [4/5], Step [800/14], Loss: 0.0474\n",
      "Epoch [4/5], Step [900/14], Loss: 0.0513\n",
      "Epoch [5/5], Step [100/14], Loss: 0.0083\n",
      "Epoch [5/5], Step [200/14], Loss: 0.1002\n",
      "Epoch [5/5], Step [300/14], Loss: 0.1180\n",
      "Epoch [5/5], Step [400/14], Loss: 0.0463\n",
      "Epoch [5/5], Step [500/14], Loss: 0.0804\n",
      "Epoch [5/5], Step [600/14], Loss: 0.0283\n",
      "Epoch [5/5], Step [700/14], Loss: 0.0903\n",
      "Epoch [5/5], Step [800/14], Loss: 0.0095\n",
      "Epoch [5/5], Step [900/14], Loss: 0.1988\n"
     ]
    }
   ],
   "source": [
    "# Train the network\n",
    "print(\"\\nStarting training...\")\n",
    "\n",
    "for epoch in range(NUM_EPOCHS):\n",
    "    for i, (images, labels) in enumerate(train_loader):\n",
    "        images = images.to(device)\n",
    "        labels = labels.to(device)\n",
    "\n",
    "        # Forward pass\n",
    "        outputs = model(images)\n",
    "        loss = criterion(outputs, labels)\n",
    "\n",
    "        # Backward pass and optimization\n",
    "        optimizer.zero_grad()\n",
    "        loss.backward()\n",
    "        optimizer.step()\n",
    "\n",
    "        if (i+1) % 100 == 0:\n",
    "            print(f'Epoch [{epoch+1}/{NUM_EPOCHS}], Step [{i+1}/{len(train_loader)//BATCH_SIZE}], Loss: {loss.item():.4f}')"
   ]
  },
  {
   "cell_type": "code",
   "execution_count": 16,
   "id": "25303834",
   "metadata": {},
   "outputs": [
    {
     "name": "stdout",
     "output_type": "stream",
     "text": [
      "\n",
      "Evaluating model on test data...\n",
      "Accuracy of the model on the test images: 96.75%\n"
     ]
    }
   ],
   "source": [
    "print(\"\\nEvaluating model on test data...\")\n",
    "model.eval()\n",
    "with torch.no_grad():\n",
    "    correct = 0\n",
    "    total = 0\n",
    "    for images, labels in test_loader:\n",
    "        images = images.to(device)\n",
    "        labels = labels.to(device)\n",
    "        outputs = model(images)\n",
    "        _, predicted = torch.max(outputs.data, 1)\n",
    "        total += labels.size(0)\n",
    "        correct += (predicted == labels).sum().item()\n",
    "\n",
    "    accuracy = 100 * correct / total\n",
    "    print(f'Accuracy of the model on the test images: {accuracy:.2f}%')"
   ]
  }
 ],
 "metadata": {
  "kernelspec": {
   "display_name": "venv",
   "language": "python",
   "name": "python3"
  },
  "language_info": {
   "codemirror_mode": {
    "name": "ipython",
    "version": 3
   },
   "file_extension": ".py",
   "mimetype": "text/x-python",
   "name": "python",
   "nbconvert_exporter": "python",
   "pygments_lexer": "ipython3",
   "version": "3.13.5"
  }
 },
 "nbformat": 4,
 "nbformat_minor": 5
}
