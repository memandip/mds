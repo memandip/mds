{
 "cells": [
  {
   "cell_type": "markdown",
   "id": "5250348f",
   "metadata": {},
   "source": [
    "# Linear Regression"
   ]
  },
  {
   "cell_type": "code",
   "execution_count": 7,
   "id": "75b633a0",
   "metadata": {},
   "outputs": [],
   "source": [
    "import numpy as np\n",
    "import pandas as pd\n",
    "import matplotlib.pyplot as plt"
   ]
  },
  {
   "cell_type": "code",
   "execution_count": null,
   "id": "811d2672",
   "metadata": {},
   "outputs": [],
   "source": [
    "## TODO\n",
    "# Get some sample data for LR\n",
    "# data = pd.read_csv(data_path)\n",
    "\n",
    "# Use some other dataset\n",
    "data = pd.read_csv(\"housing.csv\")"
   ]
  },
  {
   "cell_type": "code",
   "execution_count": 9,
   "id": "d9f2d619",
   "metadata": {},
   "outputs": [],
   "source": [
    "def scale(d):\n",
    "    mean = d.mean()\n",
    "    sd = d.std()\n",
    "\n",
    "    return (d - mean) / sd"
   ]
  },
  {
   "cell_type": "code",
   "execution_count": 10,
   "id": "c2dbdcc7",
   "metadata": {},
   "outputs": [],
   "source": [
    "def data_iter(batch_size, features, labels):\n",
    "    num_examples = len(features)\n",
    "    indices = list(range(num_examples))\n",
    "\n",
    "    # The examples are read at random, in no particular order\n",
    "    np.random.shuffle(indices)\n",
    "    for i in range(0, num_examples, batch_size):\n",
    "        batch_indices = np.array(\n",
    "            indices[i: min(i + batch_size, num_examples)]\n",
    "        )\n",
    "\n",
    "        yield features[batch_indices], labels[batch_indices]"
   ]
  },
  {
   "cell_type": "code",
   "execution_count": 11,
   "id": "053a216f",
   "metadata": {},
   "outputs": [],
   "source": [
    "# Get features and labels with scaling in place\n",
    "features = scale(\n",
    "    np.reshape(np.array(data.iloc[:,0]), (len(data), 1))\n",
    ")"
   ]
  }
 ],
 "metadata": {
  "kernelspec": {
   "display_name": "venv",
   "language": "python",
   "name": "python3"
  },
  "language_info": {
   "codemirror_mode": {
    "name": "ipython",
    "version": 3
   },
   "file_extension": ".py",
   "mimetype": "text/x-python",
   "name": "python",
   "nbconvert_exporter": "python",
   "pygments_lexer": "ipython3",
   "version": "3.13.5"
  }
 },
 "nbformat": 4,
 "nbformat_minor": 5
}
