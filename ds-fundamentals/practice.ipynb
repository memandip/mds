{
 "cells": [
  {
   "cell_type": "code",
   "execution_count": 3,
   "metadata": {},
   "outputs": [],
   "source": [
    "import pandas as pd\n",
    "import os"
   ]
  },
  {
   "cell_type": "code",
   "execution_count": null,
   "metadata": {},
   "outputs": [
    {
     "data": {
      "application/vnd.microsoft.datawrangler.viewer.v0+json": {
       "columns": [
        {
         "name": "index",
         "rawType": "int64",
         "type": "integer"
        },
        {
         "name": "Age",
         "rawType": "float64",
         "type": "float"
        },
        {
         "name": "Gender",
         "rawType": "object",
         "type": "unknown"
        },
        {
         "name": "Education Level",
         "rawType": "object",
         "type": "unknown"
        },
        {
         "name": "Job Title",
         "rawType": "object",
         "type": "unknown"
        },
        {
         "name": "Years of Experience",
         "rawType": "float64",
         "type": "float"
        },
        {
         "name": "Salary",
         "rawType": "float64",
         "type": "float"
        }
       ],
       "conversionMethod": "pd.DataFrame",
       "ref": "5d5b5d7e-ed1a-4052-b6ca-f6e5f990588c",
       "rows": [
        [
         "0",
         "32.0",
         "Male",
         "Bachelor's",
         "Software Engineer",
         "5.0",
         "90000.0"
        ],
        [
         "1",
         "28.0",
         "Female",
         "Master's",
         "Data Analyst",
         "3.0",
         "65000.0"
        ],
        [
         "2",
         "45.0",
         "Male",
         "PhD",
         "Senior Manager",
         "15.0",
         "150000.0"
        ],
        [
         "3",
         "36.0",
         "Female",
         "Bachelor's",
         "Sales Associate",
         "7.0",
         "60000.0"
        ],
        [
         "4",
         "52.0",
         "Male",
         "Master's",
         "Director",
         "20.0",
         "200000.0"
        ],
        [
         "5",
         "29.0",
         "Male",
         "Bachelor's",
         "Marketing Analyst",
         "2.0",
         "55000.0"
        ],
        [
         "6",
         "42.0",
         "Female",
         "Master's",
         "Product Manager",
         "12.0",
         "120000.0"
        ],
        [
         "7",
         "31.0",
         "Male",
         "Bachelor's",
         "Sales Manager",
         "4.0",
         "80000.0"
        ],
        [
         "8",
         "26.0",
         "Female",
         "Bachelor's",
         "Marketing Coordinator",
         "1.0",
         "45000.0"
        ],
        [
         "9",
         "38.0",
         "Male",
         "PhD",
         "Senior Scientist",
         "10.0",
         "110000.0"
        ],
        [
         "10",
         "29.0",
         "Male",
         "Master's",
         "Software Developer",
         "3.0",
         "75000.0"
        ],
        [
         "11",
         "48.0",
         "Female",
         "Bachelor's",
         "HR Manager",
         "18.0",
         "140000.0"
        ],
        [
         "12",
         "35.0",
         "Male",
         "Bachelor's",
         "Financial Analyst",
         "6.0",
         "65000.0"
        ],
        [
         "13",
         "40.0",
         "Female",
         "Master's",
         "Project Manager",
         "14.0",
         "130000.0"
        ],
        [
         "14",
         "27.0",
         "Male",
         "Bachelor's",
         "Customer Service Rep",
         "2.0",
         "40000.0"
        ],
        [
         "15",
         "44.0",
         "Male",
         "Bachelor's",
         "Operations Manager",
         "16.0",
         "125000.0"
        ],
        [
         "16",
         "33.0",
         "Female",
         "Master's",
         "Marketing Manager",
         "7.0",
         "90000.0"
        ],
        [
         "17",
         "39.0",
         "Male",
         "PhD",
         "Senior Engineer",
         "12.0",
         "115000.0"
        ],
        [
         "18",
         "25.0",
         "Female",
         "Bachelor's",
         "Data Entry Clerk",
         "0.0",
         "35000.0"
        ],
        [
         "19",
         "51.0",
         "Male",
         "Bachelor's",
         "Sales Director",
         "22.0",
         "180000.0"
        ],
        [
         "20",
         "34.0",
         "Female",
         "Master's",
         "Business Analyst",
         "5.0",
         "80000.0"
        ],
        [
         "21",
         "47.0",
         "Male",
         "Master's",
         "VP of Operations",
         "19.0",
         "190000.0"
        ],
        [
         "22",
         "30.0",
         "Male",
         "Bachelor's",
         "IT Support",
         "2.0",
         "50000.0"
        ],
        [
         "23",
         "36.0",
         "Female",
         "Bachelor's",
         "Recruiter",
         "9.0",
         "60000.0"
        ],
        [
         "24",
         "41.0",
         "Male",
         "Master's",
         "Financial Manager",
         "13.0",
         "140000.0"
        ],
        [
         "25",
         "28.0",
         "Female",
         "Bachelor's",
         "Social Media Specialist",
         "3.0",
         "45000.0"
        ],
        [
         "26",
         "37.0",
         "Female",
         "Master's",
         "Software Manager",
         "11.0",
         "110000.0"
        ],
        [
         "27",
         "24.0",
         "Male",
         "Bachelor's",
         "Junior Developer",
         "1.0",
         "40000.0"
        ],
        [
         "28",
         "43.0",
         "Female",
         "PhD",
         "Senior Consultant",
         "15.0",
         "140000.0"
        ],
        [
         "29",
         "33.0",
         "Male",
         "Master's",
         "Product Designer",
         "6.0",
         "90000.0"
        ],
        [
         "30",
         "50.0",
         "Male",
         "Bachelor's",
         "CEO",
         "25.0",
         "250000.0"
        ],
        [
         "31",
         "31.0",
         "Female",
         "Bachelor's",
         "Accountant",
         "4.0",
         "55000.0"
        ],
        [
         "32",
         "29.0",
         "Male",
         "Master's",
         "Data Scientist",
         "3.0",
         "75000.0"
        ],
        [
         "33",
         "39.0",
         "Female",
         "Bachelor's",
         "Marketing Specialist",
         "10.0",
         "65000.0"
        ],
        [
         "34",
         "46.0",
         "Male",
         "PhD",
         "Senior Manager",
         "20.0",
         "170000.0"
        ],
        [
         "35",
         "27.0",
         "Male",
         "Bachelor's",
         "Technical Writer",
         "2.0",
         "45000.0"
        ],
        [
         "36",
         "35.0",
         "Female",
         "Bachelor's",
         "HR Generalist",
         "7.0",
         "60000.0"
        ],
        [
         "37",
         "42.0",
         "Male",
         "Master's",
         "Project Engineer",
         "14.0",
         "115000.0"
        ],
        [
         "38",
         "26.0",
         "Female",
         "Bachelor's",
         "Customer Success Rep",
         "1.0",
         "40000.0"
        ],
        [
         "39",
         "49.0",
         "Male",
         "Bachelor's",
         "Sales Executive",
         "21.0",
         "160000.0"
        ],
        [
         "40",
         "34.0",
         "Female",
         "Master's",
         "UX Designer",
         "5.0",
         "80000.0"
        ],
        [
         "41",
         "48.0",
         "Male",
         "Master's",
         "Operations Director",
         "18.0",
         "190000.0"
        ],
        [
         "42",
         "30.0",
         "Male",
         "Bachelor's",
         "Network Engineer",
         "3.0",
         "60000.0"
        ],
        [
         "43",
         "36.0",
         "Female",
         "Bachelor's",
         "Administrative Assistant",
         "8.0",
         "45000.0"
        ],
        [
         "44",
         "41.0",
         "Male",
         "Master's",
         "Strategy Consultant",
         "13.0",
         "130000.0"
        ],
        [
         "45",
         "28.0",
         "Female",
         "Bachelor's",
         "Copywriter",
         "2.0",
         "40000.0"
        ],
        [
         "46",
         "32.0",
         "Male",
         "Bachelor's",
         "Account Manager",
         "5.0",
         "75000.0"
        ],
        [
         "47",
         "45.0",
         "Female",
         "Master's",
         "Director of Marketing",
         "16.0",
         "180000.0"
        ],
        [
         "48",
         "38.0",
         "Male",
         "PhD",
         "Senior Scientist",
         "11.0",
         "120000.0"
        ],
        [
         "49",
         "25.0",
         "Male",
         "Bachelor's",
         "Help Desk Analyst",
         "0.0",
         "35000.0"
        ]
       ],
       "shape": {
        "columns": 6,
        "rows": 6704
       }
      },
      "text/html": [
       "<div>\n",
       "<style scoped>\n",
       "    .dataframe tbody tr th:only-of-type {\n",
       "        vertical-align: middle;\n",
       "    }\n",
       "\n",
       "    .dataframe tbody tr th {\n",
       "        vertical-align: top;\n",
       "    }\n",
       "\n",
       "    .dataframe thead th {\n",
       "        text-align: right;\n",
       "    }\n",
       "</style>\n",
       "<table border=\"1\" class=\"dataframe\">\n",
       "  <thead>\n",
       "    <tr style=\"text-align: right;\">\n",
       "      <th></th>\n",
       "      <th>Age</th>\n",
       "      <th>Gender</th>\n",
       "      <th>Education Level</th>\n",
       "      <th>Job Title</th>\n",
       "      <th>Years of Experience</th>\n",
       "      <th>Salary</th>\n",
       "    </tr>\n",
       "  </thead>\n",
       "  <tbody>\n",
       "    <tr>\n",
       "      <th>0</th>\n",
       "      <td>32.0</td>\n",
       "      <td>Male</td>\n",
       "      <td>Bachelor's</td>\n",
       "      <td>Software Engineer</td>\n",
       "      <td>5.0</td>\n",
       "      <td>90000.0</td>\n",
       "    </tr>\n",
       "    <tr>\n",
       "      <th>1</th>\n",
       "      <td>28.0</td>\n",
       "      <td>Female</td>\n",
       "      <td>Master's</td>\n",
       "      <td>Data Analyst</td>\n",
       "      <td>3.0</td>\n",
       "      <td>65000.0</td>\n",
       "    </tr>\n",
       "    <tr>\n",
       "      <th>2</th>\n",
       "      <td>45.0</td>\n",
       "      <td>Male</td>\n",
       "      <td>PhD</td>\n",
       "      <td>Senior Manager</td>\n",
       "      <td>15.0</td>\n",
       "      <td>150000.0</td>\n",
       "    </tr>\n",
       "    <tr>\n",
       "      <th>3</th>\n",
       "      <td>36.0</td>\n",
       "      <td>Female</td>\n",
       "      <td>Bachelor's</td>\n",
       "      <td>Sales Associate</td>\n",
       "      <td>7.0</td>\n",
       "      <td>60000.0</td>\n",
       "    </tr>\n",
       "    <tr>\n",
       "      <th>4</th>\n",
       "      <td>52.0</td>\n",
       "      <td>Male</td>\n",
       "      <td>Master's</td>\n",
       "      <td>Director</td>\n",
       "      <td>20.0</td>\n",
       "      <td>200000.0</td>\n",
       "    </tr>\n",
       "    <tr>\n",
       "      <th>...</th>\n",
       "      <td>...</td>\n",
       "      <td>...</td>\n",
       "      <td>...</td>\n",
       "      <td>...</td>\n",
       "      <td>...</td>\n",
       "      <td>...</td>\n",
       "    </tr>\n",
       "    <tr>\n",
       "      <th>6699</th>\n",
       "      <td>49.0</td>\n",
       "      <td>Female</td>\n",
       "      <td>PhD</td>\n",
       "      <td>Director of Marketing</td>\n",
       "      <td>20.0</td>\n",
       "      <td>200000.0</td>\n",
       "    </tr>\n",
       "    <tr>\n",
       "      <th>6700</th>\n",
       "      <td>32.0</td>\n",
       "      <td>Male</td>\n",
       "      <td>High School</td>\n",
       "      <td>Sales Associate</td>\n",
       "      <td>3.0</td>\n",
       "      <td>50000.0</td>\n",
       "    </tr>\n",
       "    <tr>\n",
       "      <th>6701</th>\n",
       "      <td>30.0</td>\n",
       "      <td>Female</td>\n",
       "      <td>Bachelor's Degree</td>\n",
       "      <td>Financial Manager</td>\n",
       "      <td>4.0</td>\n",
       "      <td>55000.0</td>\n",
       "    </tr>\n",
       "    <tr>\n",
       "      <th>6702</th>\n",
       "      <td>46.0</td>\n",
       "      <td>Male</td>\n",
       "      <td>Master's Degree</td>\n",
       "      <td>Marketing Manager</td>\n",
       "      <td>14.0</td>\n",
       "      <td>140000.0</td>\n",
       "    </tr>\n",
       "    <tr>\n",
       "      <th>6703</th>\n",
       "      <td>26.0</td>\n",
       "      <td>Female</td>\n",
       "      <td>High School</td>\n",
       "      <td>Sales Executive</td>\n",
       "      <td>1.0</td>\n",
       "      <td>35000.0</td>\n",
       "    </tr>\n",
       "  </tbody>\n",
       "</table>\n",
       "<p>6704 rows × 6 columns</p>\n",
       "</div>"
      ],
      "text/plain": [
       "       Age  Gender    Education Level              Job Title  \\\n",
       "0     32.0    Male         Bachelor's      Software Engineer   \n",
       "1     28.0  Female           Master's           Data Analyst   \n",
       "2     45.0    Male                PhD         Senior Manager   \n",
       "3     36.0  Female         Bachelor's        Sales Associate   \n",
       "4     52.0    Male           Master's               Director   \n",
       "...    ...     ...                ...                    ...   \n",
       "6699  49.0  Female                PhD  Director of Marketing   \n",
       "6700  32.0    Male        High School        Sales Associate   \n",
       "6701  30.0  Female  Bachelor's Degree      Financial Manager   \n",
       "6702  46.0    Male    Master's Degree      Marketing Manager   \n",
       "6703  26.0  Female        High School        Sales Executive   \n",
       "\n",
       "      Years of Experience    Salary  \n",
       "0                     5.0   90000.0  \n",
       "1                     3.0   65000.0  \n",
       "2                    15.0  150000.0  \n",
       "3                     7.0   60000.0  \n",
       "4                    20.0  200000.0  \n",
       "...                   ...       ...  \n",
       "6699                 20.0  200000.0  \n",
       "6700                  3.0   50000.0  \n",
       "6701                  4.0   55000.0  \n",
       "6702                 14.0  140000.0  \n",
       "6703                  1.0   35000.0  \n",
       "\n",
       "[6704 rows x 6 columns]"
      ]
     },
     "execution_count": 8,
     "metadata": {},
     "output_type": "execute_result"
    }
   ],
   "source": [
    "df = pd.read_csv(os.path.join('data', 'Salary_Data.csv'))\n",
    "df"
   ]
  },
  {
   "cell_type": "code",
   "execution_count": 7,
   "metadata": {},
   "outputs": [
    {
     "data": {
      "text/plain": [
       "Age                    2\n",
       "Gender                 2\n",
       "Education Level        3\n",
       "Job Title              2\n",
       "Years of Experience    3\n",
       "Salary                 5\n",
       "dtype: int64"
      ]
     },
     "execution_count": 7,
     "metadata": {},
     "output_type": "execute_result"
    }
   ],
   "source": [
    "df.isna().sum()"
   ]
  },
  {
   "cell_type": "code",
   "execution_count": 11,
   "metadata": {},
   "outputs": [
    {
     "name": "stderr",
     "output_type": "stream",
     "text": [
      "/var/folders/z6/szh1pvgx3z1f80q6xbtc8m2c0000gn/T/ipykernel_34117/663825783.py:2: FutureWarning: Series.fillna with 'method' is deprecated and will raise in a future version. Use obj.ffill() or obj.bfill() instead.\n",
      "  df['Age'].fillna(method='ffill') # ffill = forward fill, bfill = backward fill\n"
     ]
    },
    {
     "data": {
      "text/plain": [
       "0       32.0\n",
       "1       28.0\n",
       "2       45.0\n",
       "3       36.0\n",
       "4       52.0\n",
       "        ... \n",
       "6699    49.0\n",
       "6700    32.0\n",
       "6701    30.0\n",
       "6702    46.0\n",
       "6703    26.0\n",
       "Name: Age, Length: 6704, dtype: float64"
      ]
     },
     "execution_count": 11,
     "metadata": {},
     "output_type": "execute_result"
    }
   ],
   "source": [
    "df['Age'].fillna(df['Age'].mean(), inplace=True)\n",
    "df['Age'].fillna(method='ffill') # ffill = forward fill, bfill = backward fill"
   ]
  },
  {
   "cell_type": "code",
   "execution_count": 13,
   "metadata": {},
   "outputs": [
    {
     "data": {
      "text/plain": [
       "np.int64(2)"
      ]
     },
     "execution_count": 13,
     "metadata": {},
     "output_type": "execute_result"
    }
   ],
   "source": [
    "df['Gender'].isna().sum()"
   ]
  },
  {
   "cell_type": "code",
   "execution_count": 14,
   "metadata": {},
   "outputs": [
    {
     "data": {
      "text/plain": [
       "np.int64(0)"
      ]
     },
     "execution_count": 14,
     "metadata": {},
     "output_type": "execute_result"
    }
   ],
   "source": [
    "df['Gender'].fillna(df['Gender'].mode()[0], inplace=True)\n",
    "df['Gender'].isna().sum()"
   ]
  },
  {
   "cell_type": "code",
   "execution_count": 16,
   "metadata": {},
   "outputs": [
    {
     "data": {
      "text/plain": [
       "Education Level\n",
       "Bachelor's Degree    2267\n",
       "Master's Degree      1573\n",
       "PhD                  1368\n",
       "Bachelor's            756\n",
       "High School           448\n",
       "Master's              288\n",
       "phD                     1\n",
       "Name: count, dtype: int64"
      ]
     },
     "execution_count": 16,
     "metadata": {},
     "output_type": "execute_result"
    }
   ],
   "source": [
    "df['Education Level'].isna().sum()\n",
    "df['Education Level'].value_counts()"
   ]
  },
  {
   "cell_type": "markdown",
   "metadata": {},
   "source": [
    "iloc -> implicit location"
   ]
  },
  {
   "cell_type": "code",
   "execution_count": null,
   "metadata": {},
   "outputs": [
    {
     "data": {
      "text/plain": [
       "Education Level\n",
       "Bachelor       3023\n",
       "Master         1861\n",
       "PhD            1369\n",
       "High School     448\n",
       "Name: count, dtype: int64"
      ]
     },
     "execution_count": 20,
     "metadata": {},
     "output_type": "execute_result"
    }
   ],
   "source": [
    "df['Education Level'] = df['Education Level'].replace({\n",
    "    \"Bachelor's Degree\": \"Bachelor\",\n",
    "    \"Bachelor's\": \"Bachelor\",\n",
    "    \"Master's Degree\": \"Master\",\n",
    "    \"Master's\": \"Master\",\n",
    "    \"phD\": \"PhD\"\n",
    "})\n",
    "df['Education Level'].value_counts()\n",
    "df"
   ]
  },
  {
   "cell_type": "code",
   "execution_count": 34,
   "metadata": {},
   "outputs": [
    {
     "data": {
      "text/plain": [
       "0           software engineer\n",
       "1                data analyst\n",
       "2              senior manager\n",
       "3             sales associate\n",
       "4                    director\n",
       "                ...          \n",
       "6699    director of marketing\n",
       "6700          sales associate\n",
       "6701        financial manager\n",
       "6702        marketing manager\n",
       "6703          sales executive\n",
       "Name: Job Title, Length: 6704, dtype: object"
      ]
     },
     "execution_count": 34,
     "metadata": {},
     "output_type": "execute_result"
    }
   ],
   "source": [
    "df['Job Title'].isna().sum()\n",
    "df['Job Title'].value_counts()\n",
    "df['Job Title'] = df['Job Title'].fillna(df['Job Title'].mode()[0])\n",
    "df['Job Title'].isna().sum()\n",
    "df['Job Title'].str.lower()\n"
   ]
  },
  {
   "cell_type": "markdown",
   "metadata": {},
   "source": []
  },
  {
   "cell_type": "code",
   "execution_count": null,
   "metadata": {},
   "outputs": [],
   "source": [
    "# Standard Date format\n",
    "df['Date'] = df\n",
    "df['Age'] = df['Age'].str.extract('\\d+').astype(int)"
   ]
  },
  {
   "cell_type": "code",
   "execution_count": 35,
   "metadata": {},
   "outputs": [
    {
     "data": {
      "text/plain": [
       "Index(['Age', 'Gender', 'Education Level', 'Job Title', 'Years of Experience',\n",
       "       'Salary'],\n",
       "      dtype='object')"
      ]
     },
     "execution_count": 35,
     "metadata": {},
     "output_type": "execute_result"
    }
   ],
   "source": [
    "df.columns"
   ]
  },
  {
   "cell_type": "code",
   "execution_count": 74,
   "metadata": {},
   "outputs": [
    {
     "data": {
      "text/plain": [
       "np.float64(7.6134965378262915)"
      ]
     },
     "execution_count": 74,
     "metadata": {},
     "output_type": "execute_result"
    }
   ],
   "source": [
    "df['Age'].std()"
   ]
  },
  {
   "cell_type": "code",
   "execution_count": 76,
   "metadata": {},
   "outputs": [],
   "source": [
    "# Z - Score Method\n",
    "# Z = (x - mean) / standard deviation\n",
    "\n",
    "z = (df['Age'] - df['Age'].mean()) / df['Age'].std()"
   ]
  },
  {
   "cell_type": "code",
   "execution_count": 39,
   "metadata": {},
   "outputs": [
    {
     "data": {
      "text/plain": [
       "<matplotlib.collections.PathCollection at 0x11738e0a0>"
      ]
     },
     "execution_count": 39,
     "metadata": {},
     "output_type": "execute_result"
    },
    {
     "data": {
      "image/png": "[encoded data removed]",
      "text/plain": [
       "<Figure size 640x480 with 1 Axes>"
      ]
     },
     "metadata": {},
     "output_type": "display_data"
    }
   ],
   "source": [
    "import matplotlib.pyplot as plt\n",
    "\n",
    "plt.scatter(df['Age'], df['Salary'])"
   ]
  },
  {
   "cell_type": "code",
   "execution_count": null,
   "metadata": {},
   "outputs": [
    {
     "data": {
      "image/png": "[encoded data removed]",
      "text/plain": [
       "<Figure size 640x480 with 1 Axes>"
      ]
     },
     "metadata": {},
     "output_type": "display_data"
    }
   ],
   "source": [
    "plt.boxplot(df['Age'])\n",
    "plt.show()\n",
    "\n",
    "# Dot points represent the outliers"
   ]
  },
  {
   "cell_type": "code",
   "execution_count": 44,
   "metadata": {},
   "outputs": [
    {
     "data": {
      "text/plain": [
       "<Axes: ylabel='Age'>"
      ]
     },
     "execution_count": 44,
     "metadata": {},
     "output_type": "execute_result"
    },
    {
     "data": {
      "image/png": "[encoded data removed]",
      "text/plain": [
       "<Figure size 640x480 with 1 Axes>"
      ]
     },
     "metadata": {},
     "output_type": "display_data"
    }
   ],
   "source": [
    "import seaborn as sns\n",
    "\n",
    "sns.boxplot(df['Age'])"
   ]
  },
  {
   "cell_type": "code",
   "execution_count": 52,
   "metadata": {},
   "outputs": [
    {
     "data": {
      "application/vnd.microsoft.datawrangler.viewer.v0+json": {
       "columns": [
        {
         "name": "index",
         "rawType": "object",
         "type": "string"
        },
        {
         "name": "Age",
         "rawType": "float64",
         "type": "float"
        },
        {
         "name": "Years of Experience",
         "rawType": "float64",
         "type": "float"
        },
        {
         "name": "Salary",
         "rawType": "float64",
         "type": "float"
        }
       ],
       "conversionMethod": "pd.DataFrame",
       "ref": "3cba296d-62c1-40ef-9de8-b3e2d8446d00",
       "rows": [
        [
         "Age",
         "1.0",
         "0.9376547405143824",
         "0.7280526472922342"
        ],
        [
         "Years of Experience",
         "0.9376547405143824",
         "1.0",
         "0.8089689398558284"
        ],
        [
         "Salary",
         "0.7280526472922342",
         "0.8089689398558284",
         "1.0"
        ]
       ],
       "shape": {
        "columns": 3,
        "rows": 3
       }
      },
      "text/html": [
       "<div>\n",
       "<style scoped>\n",
       "    .dataframe tbody tr th:only-of-type {\n",
       "        vertical-align: middle;\n",
       "    }\n",
       "\n",
       "    .dataframe tbody tr th {\n",
       "        vertical-align: top;\n",
       "    }\n",
       "\n",
       "    .dataframe thead th {\n",
       "        text-align: right;\n",
       "    }\n",
       "</style>\n",
       "<table border=\"1\" class=\"dataframe\">\n",
       "  <thead>\n",
       "    <tr style=\"text-align: right;\">\n",
       "      <th></th>\n",
       "      <th>Age</th>\n",
       "      <th>Years of Experience</th>\n",
       "      <th>Salary</th>\n",
       "    </tr>\n",
       "  </thead>\n",
       "  <tbody>\n",
       "    <tr>\n",
       "      <th>Age</th>\n",
       "      <td>1.000000</td>\n",
       "      <td>0.937655</td>\n",
       "      <td>0.728053</td>\n",
       "    </tr>\n",
       "    <tr>\n",
       "      <th>Years of Experience</th>\n",
       "      <td>0.937655</td>\n",
       "      <td>1.000000</td>\n",
       "      <td>0.808969</td>\n",
       "    </tr>\n",
       "    <tr>\n",
       "      <th>Salary</th>\n",
       "      <td>0.728053</td>\n",
       "      <td>0.808969</td>\n",
       "      <td>1.000000</td>\n",
       "    </tr>\n",
       "  </tbody>\n",
       "</table>\n",
       "</div>"
      ],
      "text/plain": [
       "                          Age  Years of Experience    Salary\n",
       "Age                  1.000000             0.937655  0.728053\n",
       "Years of Experience  0.937655             1.000000  0.808969\n",
       "Salary               0.728053             0.808969  1.000000"
      ]
     },
     "execution_count": 52,
     "metadata": {},
     "output_type": "execute_result"
    }
   ],
   "source": [
    "df_numeric = df[['Age', 'Years of Experience', 'Salary']]\n",
    "df_numeric.corr()"
   ]
  },
  {
   "cell_type": "code",
   "execution_count": 60,
   "metadata": {},
   "outputs": [
    {
     "data": {
      "text/plain": [
       "array([[<Axes: title={'center': 'Age'}>,\n",
       "        <Axes: title={'center': 'Years of Experience'}>],\n",
       "       [<Axes: title={'center': 'Salary'}>, <Axes: >]], dtype=object)"
      ]
     },
     "execution_count": 60,
     "metadata": {},
     "output_type": "execute_result"
    },
    {
     "data": {
      "image/png": "[encoded data removed]",
      "text/plain": [
       "<Figure size 640x480 with 4 Axes>"
      ]
     },
     "metadata": {},
     "output_type": "display_data"
    }
   ],
   "source": [
    "df.hist()"
   ]
  },
  {
   "cell_type": "code",
   "execution_count": null,
   "metadata": {},
   "outputs": [],
   "source": []
  },
  {
   "cell_type": "code",
   "execution_count": 73,
   "metadata": {},
   "outputs": [
    {
     "data": {
      "text/plain": [
       "<Axes: >"
      ]
     },
     "execution_count": 73,
     "metadata": {},
     "output_type": "execute_result"
    },
    {
     "data": {
      "image/png": "[encoded data removed]",
      "text/plain": [
       "<Figure size 640x480 with 2 Axes>"
      ]
     },
     "metadata": {},
     "output_type": "display_data"
    }
   ],
   "source": [
    "sns.heatmap(df_numeric.corr())"
   ]
  },
  {
   "cell_type": "code",
   "execution_count": 72,
   "metadata": {},
   "outputs": [],
   "source": [
    "# sns.pairplot(df_numeric)\n",
    "# sns.boxenplot(df_numeric)\n",
    "# sns.barplot(df_numeric[['Age', 'Years of Experience']])\n",
    "# sns.catplot(df_numeric)\n",
    "# sns.violinplot(df_numeric['Age'])"
   ]
  },
  {
   "cell_type": "code",
   "execution_count": null,
   "metadata": {},
   "outputs": [
    {
     "data": {
      "application/vnd.microsoft.datawrangler.viewer.v0+json": {
       "columns": [
        {
         "name": "index",
         "rawType": "int64",
         "type": "integer"
        },
        {
         "name": "Age",
         "rawType": "float64",
         "type": "float"
        },
        {
         "name": "Gender",
         "rawType": "object",
         "type": "string"
        },
        {
         "name": "Education Level",
         "rawType": "object",
         "type": "string"
        },
        {
         "name": "Job Title",
         "rawType": "object",
         "type": "string"
        },
        {
         "name": "Years of Experience",
         "rawType": "float64",
         "type": "float"
        },
        {
         "name": "Salary",
         "rawType": "float64",
         "type": "float"
        }
       ],
       "conversionMethod": "pd.DataFrame",
       "ref": "06206dc8-207a-41ce-9777-a180b94c6cc6",
       "rows": [
        [
         "0",
         "32.0",
         "Male",
         "Bachelor",
         "Software Engineer",
         "5.0",
         "90000.0"
        ],
        [
         "2",
         "45.0",
         "Male",
         "PhD",
         "Senior Manager",
         "15.0",
         "150000.0"
        ],
        [
         "4",
         "52.0",
         "Male",
         "Master",
         "Director",
         "20.0",
         "200000.0"
        ],
        [
         "7",
         "31.0",
         "Male",
         "Bachelor",
         "Sales Manager",
         "4.0",
         "80000.0"
        ],
        [
         "9",
         "38.0",
         "Male",
         "PhD",
         "Senior Scientist",
         "10.0",
         "110000.0"
        ]
       ],
       "shape": {
        "columns": 6,
        "rows": 5
       }
      },
      "text/html": [
       "<div>\n",
       "<style scoped>\n",
       "    .dataframe tbody tr th:only-of-type {\n",
       "        vertical-align: middle;\n",
       "    }\n",
       "\n",
       "    .dataframe tbody tr th {\n",
       "        vertical-align: top;\n",
       "    }\n",
       "\n",
       "    .dataframe thead th {\n",
       "        text-align: right;\n",
       "    }\n",
       "</style>\n",
       "<table border=\"1\" class=\"dataframe\">\n",
       "  <thead>\n",
       "    <tr style=\"text-align: right;\">\n",
       "      <th></th>\n",
       "      <th>Age</th>\n",
       "      <th>Gender</th>\n",
       "      <th>Education Level</th>\n",
       "      <th>Job Title</th>\n",
       "      <th>Years of Experience</th>\n",
       "      <th>Salary</th>\n",
       "    </tr>\n",
       "  </thead>\n",
       "  <tbody>\n",
       "    <tr>\n",
       "      <th>0</th>\n",
       "      <td>32.0</td>\n",
       "      <td>Male</td>\n",
       "      <td>Bachelor</td>\n",
       "      <td>Software Engineer</td>\n",
       "      <td>5.0</td>\n",
       "      <td>90000.0</td>\n",
       "    </tr>\n",
       "    <tr>\n",
       "      <th>2</th>\n",
       "      <td>45.0</td>\n",
       "      <td>Male</td>\n",
       "      <td>PhD</td>\n",
       "      <td>Senior Manager</td>\n",
       "      <td>15.0</td>\n",
       "      <td>150000.0</td>\n",
       "    </tr>\n",
       "    <tr>\n",
       "      <th>4</th>\n",
       "      <td>52.0</td>\n",
       "      <td>Male</td>\n",
       "      <td>Master</td>\n",
       "      <td>Director</td>\n",
       "      <td>20.0</td>\n",
       "      <td>200000.0</td>\n",
       "    </tr>\n",
       "    <tr>\n",
       "      <th>7</th>\n",
       "      <td>31.0</td>\n",
       "      <td>Male</td>\n",
       "      <td>Bachelor</td>\n",
       "      <td>Sales Manager</td>\n",
       "      <td>4.0</td>\n",
       "      <td>80000.0</td>\n",
       "    </tr>\n",
       "    <tr>\n",
       "      <th>9</th>\n",
       "      <td>38.0</td>\n",
       "      <td>Male</td>\n",
       "      <td>PhD</td>\n",
       "      <td>Senior Scientist</td>\n",
       "      <td>10.0</td>\n",
       "      <td>110000.0</td>\n",
       "    </tr>\n",
       "  </tbody>\n",
       "</table>\n",
       "</div>"
      ],
      "text/plain": [
       "    Age Gender Education Level          Job Title  Years of Experience  \\\n",
       "0  32.0   Male        Bachelor  Software Engineer                  5.0   \n",
       "2  45.0   Male             PhD     Senior Manager                 15.0   \n",
       "4  52.0   Male          Master           Director                 20.0   \n",
       "7  31.0   Male        Bachelor      Sales Manager                  4.0   \n",
       "9  38.0   Male             PhD   Senior Scientist                 10.0   \n",
       "\n",
       "     Salary  \n",
       "0   90000.0  \n",
       "2  150000.0  \n",
       "4  200000.0  \n",
       "7   80000.0  \n",
       "9  110000.0  "
      ]
     },
     "execution_count": 82,
     "metadata": {},
     "output_type": "execute_result"
    }
   ],
   "source": [
    "df_male = df[(df['Gender'] == 'Male') & (df['Age'] > 30)]\n",
    "\n",
    "df_male.head()"
   ]
  }
 ],
 "metadata": {
  "kernelspec": {
   "display_name": "venv",
   "language": "python",
   "name": "python3"
  },
  "language_info": {
   "codemirror_mode": {
    "name": "ipython",
    "version": 3
   },
   "file_extension": ".py",
   "mimetype": "text/x-python",
   "name": "python",
   "nbconvert_exporter": "python",
   "pygments_lexer": "ipython3",
   "version": "3.9.6"
  }
 },
 "nbformat": 4,
 "nbformat_minor": 2
}
